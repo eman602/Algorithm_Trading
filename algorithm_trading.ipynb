{
  "nbformat": 4,
  "nbformat_minor": 0,
  "metadata": {
    "colab": {
      "name": "algorithm trading",
      "provenance": [],
      "collapsed_sections": []
    },
    "kernelspec": {
      "name": "python3",
      "display_name": "Python 3"
    }
  },
  "cells": [
    {
      "cell_type": "code",
      "metadata": {
        "id": "_FV2rwI_b3mh",
        "colab_type": "code",
        "colab": {
          "base_uri": "https://localhost:8080/",
          "height": 258
        },
        "outputId": "9db1c5e6-14bb-4aba-f5bb-37342360d8c4"
      },
      "source": [
        "pip install pandas-datareader"
      ],
      "execution_count": null,
      "outputs": [
        {
          "output_type": "stream",
          "text": [
            "Requirement already satisfied: pandas-datareader in /usr/local/lib/python3.6/dist-packages (0.7.4)\n",
            "Requirement already satisfied: wrapt in /usr/local/lib/python3.6/dist-packages (from pandas-datareader) (1.11.2)\n",
            "Requirement already satisfied: requests>=2.3.0 in /usr/local/lib/python3.6/dist-packages (from pandas-datareader) (2.21.0)\n",
            "Requirement already satisfied: lxml in /usr/local/lib/python3.6/dist-packages (from pandas-datareader) (4.2.6)\n",
            "Requirement already satisfied: pandas>=0.19.2 in /usr/local/lib/python3.6/dist-packages (from pandas-datareader) (0.25.3)\n",
            "Requirement already satisfied: certifi>=2017.4.17 in /usr/local/lib/python3.6/dist-packages (from requests>=2.3.0->pandas-datareader) (2019.11.28)\n",
            "Requirement already satisfied: idna<2.9,>=2.5 in /usr/local/lib/python3.6/dist-packages (from requests>=2.3.0->pandas-datareader) (2.8)\n",
            "Requirement already satisfied: chardet<3.1.0,>=3.0.2 in /usr/local/lib/python3.6/dist-packages (from requests>=2.3.0->pandas-datareader) (3.0.4)\n",
            "Requirement already satisfied: urllib3<1.25,>=1.21.1 in /usr/local/lib/python3.6/dist-packages (from requests>=2.3.0->pandas-datareader) (1.24.3)\n",
            "Requirement already satisfied: python-dateutil>=2.6.1 in /usr/local/lib/python3.6/dist-packages (from pandas>=0.19.2->pandas-datareader) (2.6.1)\n",
            "Requirement already satisfied: numpy>=1.13.3 in /usr/local/lib/python3.6/dist-packages (from pandas>=0.19.2->pandas-datareader) (1.17.5)\n",
            "Requirement already satisfied: pytz>=2017.2 in /usr/local/lib/python3.6/dist-packages (from pandas>=0.19.2->pandas-datareader) (2018.9)\n",
            "Requirement already satisfied: six>=1.5 in /usr/local/lib/python3.6/dist-packages (from python-dateutil>=2.6.1->pandas>=0.19.2->pandas-datareader) (1.12.0)\n"
          ],
          "name": "stdout"
        }
      ]
    },
    {
      "cell_type": "code",
      "metadata": {
        "id": "kJlfXRAbeyNj",
        "colab_type": "code",
        "colab": {}
      },
      "source": [
        "import pandas_datareader as pdr\n",
        "import datetime\n",
        "aapl = pdr.get_data_yahoo('AAPL', #AAPL is a dataframe which is 2-dimentional\n",
        "                          #labeled data structure which has columns of potentially\n",
        "                          #different types.\n",
        "                    start = datetime.datetime(2006, 10, 1), \n",
        "                    end = datetime.datetime(2020, 1, 1))\n",
        "\n"
      ],
      "execution_count": null,
      "outputs": []
    },
    {
      "cell_type": "code",
      "metadata": {
        "id": "1DHH9v-0ZhGz",
        "colab_type": "code",
        "colab": {
          "base_uri": "https://localhost:8080/",
          "height": 235
        },
        "outputId": "fb962fac-19bd-4e2a-e894-d3303e4058de"
      },
      "source": [
        "aapl.head()"
      ],
      "execution_count": null,
      "outputs": [
        {
          "output_type": "execute_result",
          "data": {
            "text/html": [
              "<div>\n",
              "<style scoped>\n",
              "    .dataframe tbody tr th:only-of-type {\n",
              "        vertical-align: middle;\n",
              "    }\n",
              "\n",
              "    .dataframe tbody tr th {\n",
              "        vertical-align: top;\n",
              "    }\n",
              "\n",
              "    .dataframe thead th {\n",
              "        text-align: right;\n",
              "    }\n",
              "</style>\n",
              "<table border=\"1\" class=\"dataframe\">\n",
              "  <thead>\n",
              "    <tr style=\"text-align: right;\">\n",
              "      <th></th>\n",
              "      <th>High</th>\n",
              "      <th>Low</th>\n",
              "      <th>Open</th>\n",
              "      <th>Close</th>\n",
              "      <th>Volume</th>\n",
              "      <th>Adj Close</th>\n",
              "    </tr>\n",
              "    <tr>\n",
              "      <th>Date</th>\n",
              "      <th></th>\n",
              "      <th></th>\n",
              "      <th></th>\n",
              "      <th></th>\n",
              "      <th></th>\n",
              "      <th></th>\n",
              "    </tr>\n",
              "  </thead>\n",
              "  <tbody>\n",
              "    <tr>\n",
              "      <th>2006-10-02</th>\n",
              "      <td>10.838572</td>\n",
              "      <td>10.614285</td>\n",
              "      <td>10.728572</td>\n",
              "      <td>10.694285</td>\n",
              "      <td>178159800.0</td>\n",
              "      <td>9.305108</td>\n",
              "    </tr>\n",
              "    <tr>\n",
              "      <th>2006-10-03</th>\n",
              "      <td>10.707143</td>\n",
              "      <td>10.455714</td>\n",
              "      <td>10.635715</td>\n",
              "      <td>10.582857</td>\n",
              "      <td>197677200.0</td>\n",
              "      <td>9.208156</td>\n",
              "    </tr>\n",
              "    <tr>\n",
              "      <th>2006-10-04</th>\n",
              "      <td>10.780000</td>\n",
              "      <td>10.451428</td>\n",
              "      <td>10.585714</td>\n",
              "      <td>10.768572</td>\n",
              "      <td>207270700.0</td>\n",
              "      <td>9.369746</td>\n",
              "    </tr>\n",
              "    <tr>\n",
              "      <th>2006-10-05</th>\n",
              "      <td>10.880000</td>\n",
              "      <td>10.590000</td>\n",
              "      <td>10.647142</td>\n",
              "      <td>10.690000</td>\n",
              "      <td>170970800.0</td>\n",
              "      <td>9.301377</td>\n",
              "    </tr>\n",
              "    <tr>\n",
              "      <th>2006-10-06</th>\n",
              "      <td>10.720000</td>\n",
              "      <td>10.544286</td>\n",
              "      <td>10.631429</td>\n",
              "      <td>10.602858</td>\n",
              "      <td>116739700.0</td>\n",
              "      <td>9.225556</td>\n",
              "    </tr>\n",
              "  </tbody>\n",
              "</table>\n",
              "</div>"
            ],
            "text/plain": [
              "                 High        Low       Open      Close       Volume  Adj Close\n",
              "Date                                                                          \n",
              "2006-10-02  10.838572  10.614285  10.728572  10.694285  178159800.0   9.305108\n",
              "2006-10-03  10.707143  10.455714  10.635715  10.582857  197677200.0   9.208156\n",
              "2006-10-04  10.780000  10.451428  10.585714  10.768572  207270700.0   9.369746\n",
              "2006-10-05  10.880000  10.590000  10.647142  10.690000  170970800.0   9.301377\n",
              "2006-10-06  10.720000  10.544286  10.631429  10.602858  116739700.0   9.225556"
            ]
          },
          "metadata": {
            "tags": []
          },
          "execution_count": 46
        }
      ]
    },
    {
      "cell_type": "code",
      "metadata": {
        "id": "2ma5U7C7Zmk7",
        "colab_type": "code",
        "colab": {
          "base_uri": "https://localhost:8080/",
          "height": 235
        },
        "outputId": "5dbf2e80-9e84-4c25-a944-1532ddca8779"
      },
      "source": [
        "aapl.tail()"
      ],
      "execution_count": null,
      "outputs": [
        {
          "output_type": "execute_result",
          "data": {
            "text/html": [
              "<div>\n",
              "<style scoped>\n",
              "    .dataframe tbody tr th:only-of-type {\n",
              "        vertical-align: middle;\n",
              "    }\n",
              "\n",
              "    .dataframe tbody tr th {\n",
              "        vertical-align: top;\n",
              "    }\n",
              "\n",
              "    .dataframe thead th {\n",
              "        text-align: right;\n",
              "    }\n",
              "</style>\n",
              "<table border=\"1\" class=\"dataframe\">\n",
              "  <thead>\n",
              "    <tr style=\"text-align: right;\">\n",
              "      <th></th>\n",
              "      <th>High</th>\n",
              "      <th>Low</th>\n",
              "      <th>Open</th>\n",
              "      <th>Close</th>\n",
              "      <th>Volume</th>\n",
              "      <th>Adj Close</th>\n",
              "    </tr>\n",
              "    <tr>\n",
              "      <th>Date</th>\n",
              "      <th></th>\n",
              "      <th></th>\n",
              "      <th></th>\n",
              "      <th></th>\n",
              "      <th></th>\n",
              "      <th></th>\n",
              "    </tr>\n",
              "  </thead>\n",
              "  <tbody>\n",
              "    <tr>\n",
              "      <th>2019-12-24</th>\n",
              "      <td>284.890015</td>\n",
              "      <td>282.920013</td>\n",
              "      <td>284.690002</td>\n",
              "      <td>284.269989</td>\n",
              "      <td>12119700.0</td>\n",
              "      <td>284.269989</td>\n",
              "    </tr>\n",
              "    <tr>\n",
              "      <th>2019-12-26</th>\n",
              "      <td>289.980011</td>\n",
              "      <td>284.700012</td>\n",
              "      <td>284.820007</td>\n",
              "      <td>289.910004</td>\n",
              "      <td>23280300.0</td>\n",
              "      <td>289.910004</td>\n",
              "    </tr>\n",
              "    <tr>\n",
              "      <th>2019-12-27</th>\n",
              "      <td>293.970001</td>\n",
              "      <td>288.119995</td>\n",
              "      <td>291.119995</td>\n",
              "      <td>289.799988</td>\n",
              "      <td>36566500.0</td>\n",
              "      <td>289.799988</td>\n",
              "    </tr>\n",
              "    <tr>\n",
              "      <th>2019-12-30</th>\n",
              "      <td>292.690002</td>\n",
              "      <td>285.220001</td>\n",
              "      <td>289.459991</td>\n",
              "      <td>291.519989</td>\n",
              "      <td>36028600.0</td>\n",
              "      <td>291.519989</td>\n",
              "    </tr>\n",
              "    <tr>\n",
              "      <th>2019-12-31</th>\n",
              "      <td>293.679993</td>\n",
              "      <td>289.519989</td>\n",
              "      <td>289.929993</td>\n",
              "      <td>293.649994</td>\n",
              "      <td>25201400.0</td>\n",
              "      <td>293.649994</td>\n",
              "    </tr>\n",
              "  </tbody>\n",
              "</table>\n",
              "</div>"
            ],
            "text/plain": [
              "                  High         Low  ...      Volume   Adj Close\n",
              "Date                                ...                        \n",
              "2019-12-24  284.890015  282.920013  ...  12119700.0  284.269989\n",
              "2019-12-26  289.980011  284.700012  ...  23280300.0  289.910004\n",
              "2019-12-27  293.970001  288.119995  ...  36566500.0  289.799988\n",
              "2019-12-30  292.690002  285.220001  ...  36028600.0  291.519989\n",
              "2019-12-31  293.679993  289.519989  ...  25201400.0  293.649994\n",
              "\n",
              "[5 rows x 6 columns]"
            ]
          },
          "metadata": {
            "tags": []
          },
          "execution_count": 47
        }
      ]
    },
    {
      "cell_type": "code",
      "metadata": {
        "id": "AQZpgCLbZrQp",
        "colab_type": "code",
        "colab": {
          "base_uri": "https://localhost:8080/",
          "height": 297
        },
        "outputId": "959239dc-e4c0-4a6f-f86c-78401110b436"
      },
      "source": [
        "aapl.describe()"
      ],
      "execution_count": null,
      "outputs": [
        {
          "output_type": "execute_result",
          "data": {
            "text/html": [
              "<div>\n",
              "<style scoped>\n",
              "    .dataframe tbody tr th:only-of-type {\n",
              "        vertical-align: middle;\n",
              "    }\n",
              "\n",
              "    .dataframe tbody tr th {\n",
              "        vertical-align: top;\n",
              "    }\n",
              "\n",
              "    .dataframe thead th {\n",
              "        text-align: right;\n",
              "    }\n",
              "</style>\n",
              "<table border=\"1\" class=\"dataframe\">\n",
              "  <thead>\n",
              "    <tr style=\"text-align: right;\">\n",
              "      <th></th>\n",
              "      <th>High</th>\n",
              "      <th>Low</th>\n",
              "      <th>Open</th>\n",
              "      <th>Close</th>\n",
              "      <th>Volume</th>\n",
              "      <th>Adj Close</th>\n",
              "    </tr>\n",
              "  </thead>\n",
              "  <tbody>\n",
              "    <tr>\n",
              "      <th>count</th>\n",
              "      <td>3335.000000</td>\n",
              "      <td>3335.000000</td>\n",
              "      <td>3335.000000</td>\n",
              "      <td>3335.000000</td>\n",
              "      <td>3.335000e+03</td>\n",
              "      <td>3335.000000</td>\n",
              "    </tr>\n",
              "    <tr>\n",
              "      <th>mean</th>\n",
              "      <td>88.766498</td>\n",
              "      <td>87.120565</td>\n",
              "      <td>87.956428</td>\n",
              "      <td>87.973199</td>\n",
              "      <td>1.105781e+08</td>\n",
              "      <td>82.618544</td>\n",
              "    </tr>\n",
              "    <tr>\n",
              "      <th>std</th>\n",
              "      <td>63.108015</td>\n",
              "      <td>62.133189</td>\n",
              "      <td>62.590093</td>\n",
              "      <td>62.656493</td>\n",
              "      <td>9.735242e+07</td>\n",
              "      <td>62.633342</td>\n",
              "    </tr>\n",
              "    <tr>\n",
              "      <th>min</th>\n",
              "      <td>10.568571</td>\n",
              "      <td>10.371428</td>\n",
              "      <td>10.488571</td>\n",
              "      <td>10.461429</td>\n",
              "      <td>1.136200e+07</td>\n",
              "      <td>9.102497</td>\n",
              "    </tr>\n",
              "    <tr>\n",
              "      <th>25%</th>\n",
              "      <td>29.667857</td>\n",
              "      <td>28.989285</td>\n",
              "      <td>29.370000</td>\n",
              "      <td>29.415000</td>\n",
              "      <td>3.650470e+07</td>\n",
              "      <td>25.594019</td>\n",
              "    </tr>\n",
              "    <tr>\n",
              "      <th>50%</th>\n",
              "      <td>77.994286</td>\n",
              "      <td>76.335716</td>\n",
              "      <td>77.110001</td>\n",
              "      <td>76.970001</td>\n",
              "      <td>8.236830e+07</td>\n",
              "      <td>68.759087</td>\n",
              "    </tr>\n",
              "    <tr>\n",
              "      <th>75%</th>\n",
              "      <td>125.750000</td>\n",
              "      <td>123.574997</td>\n",
              "      <td>124.794998</td>\n",
              "      <td>124.639999</td>\n",
              "      <td>1.521261e+08</td>\n",
              "      <td>115.522213</td>\n",
              "    </tr>\n",
              "    <tr>\n",
              "      <th>max</th>\n",
              "      <td>293.970001</td>\n",
              "      <td>289.519989</td>\n",
              "      <td>291.119995</td>\n",
              "      <td>293.649994</td>\n",
              "      <td>8.432424e+08</td>\n",
              "      <td>293.649994</td>\n",
              "    </tr>\n",
              "  </tbody>\n",
              "</table>\n",
              "</div>"
            ],
            "text/plain": [
              "              High          Low  ...        Volume    Adj Close\n",
              "count  3335.000000  3335.000000  ...  3.335000e+03  3335.000000\n",
              "mean     88.766498    87.120565  ...  1.105781e+08    82.618544\n",
              "std      63.108015    62.133189  ...  9.735242e+07    62.633342\n",
              "min      10.568571    10.371428  ...  1.136200e+07     9.102497\n",
              "25%      29.667857    28.989285  ...  3.650470e+07    25.594019\n",
              "50%      77.994286    76.335716  ...  8.236830e+07    68.759087\n",
              "75%     125.750000   123.574997  ...  1.521261e+08   115.522213\n",
              "max     293.970001   289.519989  ...  8.432424e+08   293.649994\n",
              "\n",
              "[8 rows x 6 columns]"
            ]
          },
          "metadata": {
            "tags": []
          },
          "execution_count": 48
        }
      ]
    },
    {
      "cell_type": "code",
      "metadata": {
        "id": "ga6UGWLdaeZx",
        "colab_type": "code",
        "colab": {
          "base_uri": "https://localhost:8080/",
          "height": 153
        },
        "outputId": "8b04fb13-ed4b-46de-bba0-21df62ef025e"
      },
      "source": [
        "aapl.index"
      ],
      "execution_count": null,
      "outputs": [
        {
          "output_type": "execute_result",
          "data": {
            "text/plain": [
              "DatetimeIndex(['2006-10-02', '2006-10-03', '2006-10-04', '2006-10-05',\n",
              "               '2006-10-06', '2006-10-09', '2006-10-10', '2006-10-11',\n",
              "               '2006-10-12', '2006-10-13',\n",
              "               ...\n",
              "               '2019-12-17', '2019-12-18', '2019-12-19', '2019-12-20',\n",
              "               '2019-12-23', '2019-12-24', '2019-12-26', '2019-12-27',\n",
              "               '2019-12-30', '2019-12-31'],\n",
              "              dtype='datetime64[ns]', name='Date', length=3335, freq=None)"
            ]
          },
          "metadata": {
            "tags": []
          },
          "execution_count": 49
        }
      ]
    },
    {
      "cell_type": "code",
      "metadata": {
        "id": "YVWr0cE8cRo7",
        "colab_type": "code",
        "colab": {
          "base_uri": "https://localhost:8080/",
          "height": 34
        },
        "outputId": "7907835c-49b5-455b-a9cd-c3a25285815a"
      },
      "source": [
        "aapl.columns"
      ],
      "execution_count": null,
      "outputs": [
        {
          "output_type": "execute_result",
          "data": {
            "text/plain": [
              "Index(['High', 'Low', 'Open', 'Close', 'Volume', 'Adj Close'], dtype='object')"
            ]
          },
          "metadata": {
            "tags": []
          },
          "execution_count": 50
        }
      ]
    },
    {
      "cell_type": "code",
      "metadata": {
        "id": "tkxnQMJ7cVjq",
        "colab_type": "code",
        "colab": {}
      },
      "source": [
        "data = aapl['Close'][-10:]"
      ],
      "execution_count": null,
      "outputs": []
    },
    {
      "cell_type": "code",
      "metadata": {
        "id": "bKNVdLiwc2qQ",
        "colab_type": "code",
        "colab": {
          "base_uri": "https://localhost:8080/",
          "height": 34
        },
        "outputId": "9e4440cd-e857-4ebc-c95a-14b486df0261"
      },
      "source": [
        "type(data)"
      ],
      "execution_count": null,
      "outputs": [
        {
          "output_type": "execute_result",
          "data": {
            "text/plain": [
              "pandas.core.series.Series"
            ]
          },
          "metadata": {
            "tags": []
          },
          "execution_count": 52
        }
      ]
    },
    {
      "cell_type": "code",
      "metadata": {
        "id": "eO84IPiAfxb-",
        "colab_type": "code",
        "colab": {
          "base_uri": "https://localhost:8080/",
          "height": 136
        },
        "outputId": "945b4de6-f394-4af9-c6ba-34cbbaba9847"
      },
      "source": [
        "print(aapl.loc['2008'].head()) #some dates are missing becuase of weekends"
      ],
      "execution_count": null,
      "outputs": [
        {
          "output_type": "stream",
          "text": [
            "                 High        Low       Open      Close       Volume  Adj Close\n",
            "Date                                                                          \n",
            "2008-01-02  28.608572  27.507143  28.467142  27.834286  269794700.0  24.218641\n",
            "2008-01-03  28.198572  27.527143  27.915714  27.847143  210516600.0  24.229824\n",
            "2008-01-04  27.571428  25.555714  27.350000  25.721428  363958000.0  22.380234\n",
            "2008-01-07  26.228571  24.318571  25.892857  25.377142  518048300.0  22.080675\n",
            "2008-01-08  26.065714  24.400000  25.734285  24.464285  380954000.0  21.286396\n"
          ],
          "name": "stdout"
        }
      ]
    },
    {
      "cell_type": "code",
      "metadata": {
        "id": "MCHmzncJhTSz",
        "colab_type": "code",
        "colab": {
          "base_uri": "https://localhost:8080/",
          "height": 425
        },
        "outputId": "782d4787-74ab-4d1b-dcdc-8d479a872209"
      },
      "source": [
        "sample = aapl.sample(20)\n",
        "print(sample)"
      ],
      "execution_count": null,
      "outputs": [
        {
          "output_type": "stream",
          "text": [
            "                  High         Low  ...       Volume   Adj Close\n",
            "Date                                ...                         \n",
            "2015-11-25  119.230003  117.919998  ...   21388300.0  110.295761\n",
            "2019-09-06  214.419998  212.509995  ...   19362300.0  212.621643\n",
            "2008-09-11   21.855715   20.857143  ...  242783800.0   18.974417\n",
            "2018-08-22  216.360001  213.839996  ...   19018100.0  211.130035\n",
            "2017-05-26  154.240005  153.309998  ...   21927600.0  147.982559\n",
            "2007-06-18   17.882856   17.505714  ...  227651200.0   15.548704\n",
            "2008-05-08   26.642857   26.152857  ...  224771400.0   23.002985\n",
            "2016-04-19  108.000000  106.230003  ...   32384900.0  100.446556\n",
            "2017-05-22  154.580002  152.910004  ...   22966400.0  148.348648\n",
            "2014-02-24   75.702858   74.631432  ...   72227400.0   68.224747\n",
            "2010-02-12   28.805714   27.928572  ...  163867200.0   24.907267\n",
            "2015-09-17  116.489998  113.720001  ...   64112600.0  106.001350\n",
            "2012-05-02   83.914284   82.694283  ...  106847300.0   72.837395\n",
            "2012-09-13   97.928574   96.395714  ...  149590000.0   85.259003\n",
            "2015-04-21  128.199997  126.669998  ...   32435100.0  117.067322\n",
            "2012-10-18   91.722855   90.000000  ...  119156100.0   78.974846\n",
            "2016-03-15  105.180000  103.849998  ...   40067700.0   98.257431\n",
            "2016-04-06  110.980003  109.199997  ...   26404100.0  104.251701\n",
            "2018-04-19  175.389999  172.660004  ...   34808800.0  168.407867\n",
            "2012-02-10   71.088570   69.792854  ...  157825500.0   61.332165\n",
            "\n",
            "[20 rows x 6 columns]\n"
          ],
          "name": "stdout"
        }
      ]
    },
    {
      "cell_type": "code",
      "metadata": {
        "id": "ja7gJAZRhpIU",
        "colab_type": "code",
        "colab": {
          "base_uri": "https://localhost:8080/",
          "height": 272
        },
        "outputId": "d4aa1de2-90b6-4339-feba-685eaf178734"
      },
      "source": [
        "saample = aapl.asfreq(\"M\", method=\"bfill\")\n",
        "print(saample)"
      ],
      "execution_count": null,
      "outputs": [
        {
          "output_type": "stream",
          "text": [
            "                  High         Low  ...       Volume   Adj Close\n",
            "Date                                ...                         \n",
            "2006-10-31   11.668571   11.461429  ...  125368600.0   10.078254\n",
            "2006-11-30   13.240000   13.008572  ...  217621600.0   11.393351\n",
            "2006-12-31   12.368571   11.700000  ...  309579900.0   10.416352\n",
            "2007-01-31   12.285714   12.050000  ...  214017300.0   10.656251\n",
            "2007-02-28   12.228572   11.857142  ...  229868800.0   10.517034\n",
            "...                ...         ...  ...          ...         ...\n",
            "2019-08-31  206.979996  204.220001  ...   20023000.0  205.084274\n",
            "2019-09-30  224.580002  220.789993  ...   25977400.0  223.299591\n",
            "2019-10-31  249.169998  237.259995  ...   34790500.0  248.015381\n",
            "2019-11-30  268.250000  263.450012  ...   23621800.0  264.160004\n",
            "2019-12-31  293.679993  289.519989  ...   25201400.0  293.649994\n",
            "\n",
            "[159 rows x 6 columns]\n"
          ],
          "name": "stdout"
        }
      ]
    },
    {
      "cell_type": "code",
      "metadata": {
        "id": "peR_BdbpiViJ",
        "colab_type": "code",
        "colab": {}
      },
      "source": [
        "import matplotlib.pyplot as plt\n",
        "#this allows us to visualise our time series data"
      ],
      "execution_count": null,
      "outputs": []
    },
    {
      "cell_type": "code",
      "metadata": {
        "id": "L5o9aJ7UifdZ",
        "colab_type": "code",
        "colab": {
          "base_uri": "https://localhost:8080/",
          "height": 269
        },
        "outputId": "f04d7978-9119-42f6-a7ec-6299e7f1e275"
      },
      "source": [
        "aapl['Adj Close'].plot(grid=True)\n",
        "plt.show()"
      ],
      "execution_count": null,
      "outputs": [
        {
          "output_type": "display_data",
          "data": {
            "image/png": "[encoded data removed]",
            "text/plain": [
              "<Figure size 432x288 with 1 Axes>"
            ]
          },
          "metadata": {
            "tags": []
          }
        }
      ]
    },
    {
      "cell_type": "code",
      "metadata": {
        "id": "uP73DLcckTxI",
        "colab_type": "code",
        "colab": {}
      },
      "source": [
        "import numpy as np"
      ],
      "execution_count": null,
      "outputs": []
    },
    {
      "cell_type": "code",
      "metadata": {
        "id": "IoRsQ1wwkV-a",
        "colab_type": "code",
        "colab": {
          "base_uri": "https://localhost:8080/",
          "height": 272
        },
        "outputId": "301dc87c-df9a-4aed-cc87-20f74fddfbca"
      },
      "source": [
        "dailyclose = aapl[['Close']]\n",
        "percentageofclose = dailyclose.pct_change()#for calculating daily percentage\n",
        "print(percentageofclose)"
      ],
      "execution_count": null,
      "outputs": [
        {
          "output_type": "stream",
          "text": [
            "               Close\n",
            "Date                \n",
            "2006-10-02       NaN\n",
            "2006-10-03 -0.010419\n",
            "2006-10-04  0.017549\n",
            "2006-10-05 -0.007296\n",
            "2006-10-06 -0.008152\n",
            "...              ...\n",
            "2019-12-24  0.000951\n",
            "2019-12-26  0.019840\n",
            "2019-12-27 -0.000379\n",
            "2019-12-30  0.005935\n",
            "2019-12-31  0.007307\n",
            "\n",
            "[3335 rows x 1 columns]\n"
          ],
          "name": "stdout"
        }
      ]
    },
    {
      "cell_type": "code",
      "metadata": {
        "id": "FVMLd0yRkuYa",
        "colab_type": "code",
        "colab": {
          "base_uri": "https://localhost:8080/",
          "height": 272
        },
        "outputId": "29e1c362-8ca8-4ee9-cb82-c83f4a4de146"
      },
      "source": [
        "#replacing NA with values of 0\n",
        "percentageofclose.fillna(0, inplace=True)\n",
        "print(percentageofclose)"
      ],
      "execution_count": null,
      "outputs": [
        {
          "output_type": "stream",
          "text": [
            "               Close\n",
            "Date                \n",
            "2006-10-02  0.000000\n",
            "2006-10-03 -0.010419\n",
            "2006-10-04  0.017549\n",
            "2006-10-05 -0.007296\n",
            "2006-10-06 -0.008152\n",
            "...              ...\n",
            "2019-12-24  0.000951\n",
            "2019-12-26  0.019840\n",
            "2019-12-27 -0.000379\n",
            "2019-12-30  0.005935\n",
            "2019-12-31  0.007307\n",
            "\n",
            "[3335 rows x 1 columns]\n"
          ],
          "name": "stdout"
        }
      ]
    },
    {
      "cell_type": "code",
      "metadata": {
        "id": "-j1_a1-ml1Tu",
        "colab_type": "code",
        "colab": {
          "base_uri": "https://localhost:8080/",
          "height": 434
        },
        "outputId": "6c571a26-62d2-4e48-c42f-05d7f284adb7"
      },
      "source": [
        "#we can plot the distribution of the percentageofclose\n",
        "percentageofclose.hist(bins=50)\n",
        "plt.show()\n",
        "print(percentageofclose.describe())"
      ],
      "execution_count": null,
      "outputs": [
        {
          "output_type": "display_data",
          "data": {
            "image/png": "[encoded data removed]",
            "text/plain": [
              "<Figure size 432x288 with 1 Axes>"
            ]
          },
          "metadata": {
            "tags": []
          }
        },
        {
          "output_type": "stream",
          "text": [
            "             Close\n",
            "count  3335.000000\n",
            "mean      0.001187\n",
            "std       0.019619\n",
            "min      -0.179195\n",
            "25%      -0.007832\n",
            "50%       0.000998\n",
            "75%       0.011109\n",
            "max       0.139050\n"
          ],
          "name": "stdout"
        }
      ]
    },
    {
      "cell_type": "code",
      "metadata": {
        "id": "e5gm6afKqJCA",
        "colab_type": "code",
        "colab": {
          "base_uri": "https://localhost:8080/",
          "height": 272
        },
        "outputId": "80ad8cb5-d0c6-4c78-d921-69a2a84b56ce"
      },
      "source": [
        "#the cumulative daily return allows you to work out the value of your investment at regular intervals\n",
        "cumulativeDailyReturn = (1 +percentageofclose).cumprod()\n",
        "print(cumulativeDailyReturn)"
      ],
      "execution_count": null,
      "outputs": [
        {
          "output_type": "stream",
          "text": [
            "                Close\n",
            "Date                 \n",
            "2006-10-02   1.000000\n",
            "2006-10-03   0.989581\n",
            "2006-10-04   1.006946\n",
            "2006-10-05   0.999599\n",
            "2006-10-06   0.991451\n",
            "...               ...\n",
            "2019-12-24  26.581485\n",
            "2019-12-26  27.108871\n",
            "2019-12-27  27.098584\n",
            "2019-12-30  27.259417\n",
            "2019-12-31  27.458590\n",
            "\n",
            "[3335 rows x 1 columns]\n"
          ],
          "name": "stdout"
        }
      ]
    },
    {
      "cell_type": "code",
      "metadata": {
        "id": "e_2OZTWbrRH5",
        "colab_type": "code",
        "colab": {
          "base_uri": "https://localhost:8080/",
          "height": 335
        },
        "outputId": "a544c937-1020-46ae-fe0c-127575b54ed0"
      },
      "source": [
        "cumulativeDailyReturn.plot(figsize=(12,5))"
      ],
      "execution_count": null,
      "outputs": [
        {
          "output_type": "execute_result",
          "data": {
            "text/plain": [
              "<matplotlib.axes._subplots.AxesSubplot at 0x7fbd4c672a58>"
            ]
          },
          "metadata": {
            "tags": []
          },
          "execution_count": 63
        },
        {
          "output_type": "display_data",
          "data": {
            "image/png": "[encoded data removed]",
            "text/plain": [
              "<Figure size 864x360 with 1 Axes>"
            ]
          },
          "metadata": {
            "tags": []
          }
        }
      ]
    },
    {
      "cell_type": "code",
      "metadata": {
        "id": "lMDq1s1005Ne",
        "colab_type": "code",
        "colab": {}
      },
      "source": [
        "def get(tickers, startdate, enddate):\n",
        "  def data(ticker):\n",
        "    return(pdr.get_data_yahoo(ticker, start=startdate, end=enddate))\n",
        "    datas=map(data, tickers)\n",
        "    return(pd.concat(datas, key=tickers, names=['ticker', 'Date']))\n",
        "\n",
        "tickers = ['AAPL', 'MSFT', 'IBM', 'GOOG']\n",
        "all_data = get(tickers, datetime.datetime(2006,10,1), datetime.datetime(2012, 1, 1))\n",
        "  "
      ],
      "execution_count": null,
      "outputs": []
    },
    {
      "cell_type": "code",
      "metadata": {
        "id": "cE1znPCTTQDq",
        "colab_type": "code",
        "colab": {
          "base_uri": "https://localhost:8080/",
          "height": 34
        },
        "outputId": "819f2fa3-6352-4b53-8957-f42dbdd722eb"
      },
      "source": [
        "adj_close_px = aapl['Adj Close']\n",
        "\n",
        "moving_avg = adj_close_px.rolling(window=40).mean()\n",
        "\n",
        "print(moving_avg[-10])\n",
        "\n",
        "\n"
      ],
      "execution_count": null,
      "outputs": [
        {
          "output_type": "stream",
          "text": [
            "239.2417449951172\n"
          ],
          "name": "stdout"
        }
      ]
    },
    {
      "cell_type": "code",
      "metadata": {
        "id": "k2dFaf7Wc7hE",
        "colab_type": "code",
        "colab": {
          "base_uri": "https://localhost:8080/",
          "height": 269
        },
        "outputId": "5c228061-4b3f-4f11-feb2-ca661923f239"
      },
      "source": [
        "aapl['42'] = adj_close_px.rolling(window=40).mean()\n",
        "\n",
        "aapl['252'] = adj_close_px.rolling(window=252).mean()\n",
        "\n",
        "aapl[['Adj Close', '42', '252']].plot()\n",
        "plt.show()"
      ],
      "execution_count": null,
      "outputs": [
        {
          "output_type": "display_data",
          "data": {
            "image/png": "[encoded data removed]",
            "text/plain": [
              "<Figure size 432x288 with 1 Axes>"
            ]
          },
          "metadata": {
            "tags": []
          }
        }
      ]
    },
    {
      "cell_type": "code",
      "metadata": {
        "id": "ACLsW6A4Xnld",
        "colab_type": "code",
        "colab": {}
      },
      "source": [
        ""
      ],
      "execution_count": null,
      "outputs": []
    },
    {
      "cell_type": "code",
      "metadata": {
        "id": "THwU5EgpTzmp",
        "colab_type": "code",
        "colab": {}
      },
      "source": [
        ""
      ],
      "execution_count": null,
      "outputs": []
    }
  ]
}